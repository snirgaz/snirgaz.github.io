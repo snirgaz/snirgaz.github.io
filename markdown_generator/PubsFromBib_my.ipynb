{
 "cells": [
  {
   "cell_type": "markdown",
   "metadata": {},
   "source": [
    "# Publications markdown generator for academicpages\n",
    "\n",
    "Takes a set of bibtex of publications and converts them for use with [academicpages.github.io](academicpages.github.io). This is an interactive Jupyter notebook ([see more info here](http://jupyter-notebook-beginner-guide.readthedocs.io/en/latest/what_is_jupyter.html)). \n",
    "\n",
    "The core python code is also in `pubsFromBibs.py`. \n",
    "Run either from the `markdown_generator` folder after replacing updating the publist dictionary with:\n",
    "* bib file names\n",
    "* specific venue keys based on your bib file preferences\n",
    "* any specific pre-text for specific files\n",
    "* Collection Name (future feature)\n",
    "\n",
    "TODO: Make this work with other databases of citations, \n",
    "TODO: Merge this with the existing TSV parsing solution"
   ]
  },
  {
   "cell_type": "code",
   "execution_count": 6,
   "metadata": {},
   "outputs": [],
   "source": [
    "from pybtex.database.input import bibtex\n",
    "import pybtex.database.input.bibtex \n",
    "from time import strptime\n",
    "import string\n",
    "import html\n",
    "import os\n",
    "import re"
   ]
  },
  {
   "cell_type": "code",
   "execution_count": 7,
   "metadata": {},
   "outputs": [],
   "source": [
    "#todo: incorporate different collection types rather than a catch all publications, requires other changes to template\n",
    "publist = {\n",
    "#     \"proceeding\": {\n",
    "#         \"file\" : \"proceedings.bib\",\n",
    "#         \"venuekey\": \"booktitle\",\n",
    "#         \"venue-pretext\": \"In the proceedings of \",\n",
    "#         \"collection\" : {\"name\":\"publications\",\n",
    "#                         \"permalink\":\"/publication/\"}\n",
    "        \n",
    "#     },\n",
    "    \"journal\":{\n",
    "        \"file\": \"mypubs.bib\",\n",
    "        \"venuekey\" : \"journal\",\n",
    "        \"venue-pretext\" : \"\",\n",
    "        \"collection\" : {\"name\":\"publications\",\n",
    "                        \"permalink\":\"/publication/\"}\n",
    "    } \n",
    "}"
   ]
  },
  {
   "cell_type": "code",
   "execution_count": 8,
   "metadata": {},
   "outputs": [],
   "source": [
    "html_escape_table = {\n",
    "    \"&\": \"&amp;\",\n",
    "    '\"': \"&quot;\",\n",
    "    \"'\": \"&apos;\"\n",
    "    }\n",
    "\n",
    "def html_escape(text):\n",
    "    \"\"\"Produce entities within text.\"\"\"\n",
    "    return \"\".join(html_escape_table.get(c,c) for c in text)"
   ]
  },
  {
   "cell_type": "code",
   "execution_count": 157,
   "metadata": {
    "scrolled": false
   },
   "outputs": [
    {
     "name": "stdout",
     "output_type": "stream",
     "text": [
      "2019\n"
     ]
    }
   ],
   "source": [
    "cts=[]\n",
    "for pubsource in publist:\n",
    "    parser = bibtex.Parser()\n",
    "    bibdata = parser.parse_file(publist[pubsource][\"file\"])\n",
    "    entries_sorted=sorted(bibdata.entries,key=lambda x: bibdata.entries[x].fields[\"year\"],reverse=True)\n",
    "    #loop through the individual references in a given bibtex file\n",
    "    for ind,bib_id in enumerate(entries_sorted):\n",
    "        entry=bibdata.entries[bib_id]\n",
    "        b=entry.fields\n",
    "        pub_year = f'{b[\"year\"]}'\n",
    "        #todo: this hack for month and day needs some cleanup\n",
    "        if \"month\" in b.keys(): \n",
    "            if(len(b[\"month\"])<3):\n",
    "                pub_month = \"0\"+b[\"month\"]\n",
    "                pub_month = pub_month[-2:]\n",
    "            elif(b[\"month\"] not in range(12)):\n",
    "                tmnth = strptime(b[\"month\"][:3],'%b').tm_mon   \n",
    "                pub_month = \"{:02d}\".format(tmnth) \n",
    "            else:\n",
    "                pub_month = str(b[\"month\"])\n",
    "        if \"day\" in b.keys(): \n",
    "            pub_day = str(b[\"day\"])\n",
    "        citation=\"\"\n",
    "        persons=entry.persons[\"author\"]\n",
    "        num_of_authors=len(persons)\n",
    "        author=persons[0]\n",
    "        citation = author.first_names[0]+\" \"+author.last_names[0]\n",
    "        if num_of_authors==2:\n",
    "            author=persons[1]\n",
    "            citation = citation+\" and \"+author.first_names[0]+\" \"+author.last_names[0]\n",
    "        for i in range(1,num_of_authors-1):\n",
    "            author=persons[i]\n",
    "            citation = citation+\", \"+author.first_names[0]+\" \"+author.last_names[0]\n",
    "        author=persons[-1]\n",
    "        citation = citation+\" and \"+author.first_names[0]+\" \"+author.last_names[0]+\".\"\n",
    "        url = b[\"url\"]\n",
    "        clean_title = b[\"title\"].replace(\"{\", \"\").replace(\"}\",\"\").replace(\"\\\\\",\"\")\n",
    "        citation = citation+\"<a href=\\\"\"+url+\"\\\">\"+clean_title+\".</a>\"\n",
    "        journal = entry.fields[\"journal\"]\n",
    "        citation = citation+\"<em> \"+journal+\"</em> \"\n",
    "        if \"arXiv\" in journal:\n",
    "            print(pub_year)\n",
    "            citation= citation+\",\"+pub_year\n",
    "        else:\n",
    "            vol=b[\"volume\"]\n",
    "            if \"number\" in b.keys(): \n",
    "                num=b[\"number\"]\n",
    "            else:\n",
    "                num=\"\"\n",
    "            pages=b[\"pages\"]\n",
    "\n",
    "            if \"number\" in b.keys():\n",
    "                citation = citation+vol+\"(\"+num+\")\"+\":\"+pages+\",\"+pub_year\n",
    "            else:\n",
    "                citation= citation+vol+\":\"+pages+\",\"+pub_year\n",
    "        cts.append(citation)\n",
    "        # field may not exist for a reference\n"
   ]
  },
  {
   "cell_type": "code",
   "execution_count": 158,
   "metadata": {},
   "outputs": [],
   "source": [
    "all_text=\"<ol>\"\n",
    "for c in cts:\n",
    "    all_text+=\"<li>\"+c+\"</li>\"\n",
    "all_text+=\"</ol>\""
   ]
  },
  {
   "cell_type": "code",
   "execution_count": 159,
   "metadata": {},
   "outputs": [
    {
     "data": {
      "text/plain": [
       "'<ol><li>Thomas Schuster, Snir Gazit, Joel Moore and Norman Yao.<a href=\"https://arxiv.org/abs/1903.02558\">Floquet Hopf Insulators.</a><em> arXiv preprint arXiv:1903.02558</em> ,2019</li><li>P Sidorenko, A Dikopoltsev, T Zahavy, O Lahav, S Gazit, Y Shechtman, A Szameit, D Tannor, Y Eldar, M Segev and O Cohen.<a href=\"http://www.opticsexpress.org/abstract.cfm?URI=oe-27-6-8920\">Improving techniques for diagnostics of laser pulses by compact representations.</a><em> Opt. Express</em> 27(6):8920--8934,2019</li><li>Snir Gazit, Fakher Assaad, Subir Sachdev, Ashvin Vishwanath and Chong Wang.<a href=\"https://www.pnas.org/content/115/30/E6987\">Confinement transition of Z$_2$ gauge theories coupled to massless fermions: Emergent quantum chromodynamics and SO(5) symmetry.</a><em> Proceedings of the National Academy of Sciences</em> 115(30):E6987--E6995,2018</li><li>Michael Kolodrubetz, Frederik Nathan, Snir Gazit, Takahiro Morimoto and Joel Moore.<a href=\"https://link.aps.org/doi/10.1103/PhysRevLett.120.150601\">Topological Floquet-Thouless Energy Pump.</a><em> Phys. Rev. Lett.</em> 120(15):150601,2018</li><li>Gazit Snir, Mohit Randeria and Vishwanath Ashvin.<a href=\"https://doi.org/10.1038/nphys4028\">Emergent Dirac fermions and broken symmetries in confined and deconfined phases of Z$_2$ gauge theories.</a><em> Nature Physics</em> 13:484–490,2017</li><li>Andrew Lucas, Snir Gazit, Daniel Podolsky and William Witczak-Krempa.<a href=\"https://link.aps.org/doi/10.1103/PhysRevLett.118.056601\">Dynamical Response near Quantum Critical Points.</a><em> Phys. Rev. Lett.</em> 118(5):56601,2017</li><li>Snir Gazit, Daniel Podolsky, Heloise Nonne, Assa Auerbach and Daniel Arovas.<a href=\"https://link.aps.org/doi/10.1103/PhysRevLett.117.085302\">Collective Modes in a Quantum Solid.</a><em> Phys. Rev. Lett.</em> 117(8):85302,2016</li><li>Snir Gazit and Ashvin Vishwanath and Ashvin Vishwanath.<a href=\"https://link.aps.org/doi/10.1103/PhysRevB.93.115146\">Bosonic topological phase in a paired superfluid.</a><em> Phys. Rev. B</em> 93(11):115146,2016</li><li>Ilia Khait, Snir Gazit, Norman Yao and Assa Auerbach.<a href=\"https://link.aps.org/doi/10.1103/PhysRevB.93.224205\">Spin transport of weakly disordered Heisenberg chain at infinite temperature.</a><em> Phys. Rev. B</em> 93(22):224205,2016</li><li>Snir Gazit, Daniel Podolsky and Assa Auerbach.<a href=\"https://link.aps.org/doi/10.1103/PhysRevLett.113.240601\">Critical Capacitance and Charge-Vortex Duality Near the Superfluid-to-Insulator Transition.</a><em> Phys. Rev. Lett.</em> 113(24):240601,2014</li><li>Oren Ofer, Lital Marcipar, V {Ravi Chandra}, Snir Gazit, Daniel Podolsky, Daniel Arovas and Amit Keren.<a href=\"https://link.aps.org/doi/10.1103/PhysRevB.89.205116\">Dynamic spin fluctuations at T0 in a spin-12 ferromagnetic kagome lattice.</a><em> Phys. Rev. B</em> 89(20):205116,2014</li><li>Snir Gazit, Daniel Podolsky and Assa Auerbach.<a href=\"https://link.aps.org/doi/10.1103/PhysRevLett.110.140401\">Fate of the Higgs Mode Near Quantum Criticality.</a><em> Phys. Rev. Lett.</em> 110(14):140401,2013</li><li>Snir Gazit, Daniel Podolsky, Assa Auerbach and Daniel Arovas.<a href=\"https://link.aps.org/doi/10.1103/PhysRevB.88.235108\">Dynamics and conductivity near quantum criticality.</a><em> Phys. Rev. B</em> 88(23):235108,2013</li><li>Szameit A., Y. Shechtman, Osherovich E., Bullkich E., Sidorenko P., Dana H., Steiner S., Kley B., Gazit S., Cohen-Hyams T., Shoham S., Zibulevsky M., Yavneh I., Eldar C., Cohen O. and Segev M.<a href=\"https://doi.org/10.1038/nmat3289\">Sparsity-based single-shot subwavelength coherent diffractive imaging.</a><em> Nature Materials</em> 11:455–459,2012</li><li>Yoav Shechtman, Snir Gazit, Alexander Szameit, Yonina Eldar and Mordechai Segev.<a href=\"http://ol.osa.org/abstract.cfm?URI=ol-35-8-1148\">Super-resolution and reconstruction of sparse images carried by incoherent light.</a><em> Opt. Lett.</em> 35(8):1148--1150,2010</li><li>Snir Gazit, Alexander Szameit, Yonina Eldar and Mordechai Segev.<a href=\"http://www.opticsexpress.org/abstract.cfm?URI=oe-17-26-23920\">Super-resolution and reconstruction of sparse sub-wavelength images.</a><em> Opt. Express</em> 17(26):23920--23946,2009</li></ol>'"
      ]
     },
     "execution_count": 159,
     "metadata": {},
     "output_type": "execute_result"
    }
   ],
   "source": [
    "all_text"
   ]
  },
  {
   "cell_type": "code",
   "execution_count": 10,
   "metadata": {},
   "outputs": [],
   "source": [
    "bibdata = parser.parse_file(publist[\"journal\"][\"file\"])\n"
   ]
  },
  {
   "cell_type": "code",
   "execution_count": 64,
   "metadata": {},
   "outputs": [
    {
     "data": {
      "text/plain": [
       "'Opt. Express'"
      ]
     },
     "execution_count": 64,
     "metadata": {},
     "output_type": "execute_result"
    }
   ],
   "source": [
    "bibdata.entries['Gazit2009'].fields[\"journal\"]"
   ]
  },
  {
   "cell_type": "code",
   "execution_count": 94,
   "metadata": {},
   "outputs": [],
   "source": [
    "citation=\"\"\n",
    "entry=bibdata.entries['Gazit2018']\n",
    "persons=entry.persons[\"author\"]\n",
    "num_of_authors=len(persons)\n",
    "author=persons[0]\n",
    "citation = author.first_names[0]+\" \"+author.last_names[0]\n",
    "if num_of_authors==2:\n",
    "    citation = citation+\" and \"+author.first_names[1]+\" \"+author.last_names[1]\n",
    "for i in range(1,num_of_authors-1):\n",
    "    author=persons[i]\n",
    "    citation = citation+\", \"+author.first_names[0]+\" \"+author.last_names[0]\n",
    "author=persons[-1]\n",
    "citation = citation+\" and \"+author.first_names[0]+\" \"+author.last_names[0]+\".\"\n",
    "b=entry.fields\n",
    "url = b[\"url\"]\n",
    "clean_title = b[\"title\"].replace(\"{\", \"\").replace(\"}\",\"\").replace(\"\\\\\",\"\")\n",
    "citation = citation+\"<a href=\\\">\"+url+\"\\\"\"+clean_title+\".</a>\"\n",
    "journal = entry.fields[\"journal\"]\n",
    "citation = citation+\"<em> \"+journal+\"</em>\"\n",
    "vol=b[\"volume\"]\n",
    "num=b[\"number\"]\n",
    "pages=b[\"pages\"]\n",
    "pub_year = f'{b[\"year\"]}'\n",
    "#todo: this hack for month and day needs some cleanup\n",
    "if \"month\" in b.keys(): \n",
    "    if(len(b[\"month\"])<3):\n",
    "        pub_month = \"0\"+b[\"month\"]\n",
    "        pub_month = pub_month[-2:]\n",
    "    elif(b[\"month\"] not in range(12)):\n",
    "        tmnth = strptime(b[\"month\"][:3],'%b').tm_mon   \n",
    "        pub_month = \"{:02d}\".format(tmnth) \n",
    "    else:\n",
    "        pub_month = str(b[\"month\"])\n",
    "if \"day\" in b.keys(): \n",
    "    pub_day = str(b[\"day\"])\n",
    "citation = citation+vol+\"(\"+num+\")\"+\":\"+pages+pub_year"
   ]
  },
  {
   "cell_type": "code",
   "execution_count": 95,
   "metadata": {},
   "outputs": [
    {
     "data": {
      "text/plain": [
       "'Snir Gazit, Fakher Assaad, Subir Sachdev, Ashvin Vishwanath and Chong Wang.<a href=\">https://www.pnas.org/content/115/30/E6987\"Confinement transition of Z$_2$ gauge theories coupled to massless fermions: Emergent quantum chromodynamics and SO(5) symmetry.</a><em> Proceedings of the National Academy of Sciences</em>115(30):E6987--E69952018'"
      ]
     },
     "execution_count": 95,
     "metadata": {},
     "output_type": "execute_result"
    }
   ],
   "source": [
    "citation"
   ]
  },
  {
   "cell_type": "code",
   "execution_count": 84,
   "metadata": {},
   "outputs": [
    {
     "data": {
      "text/plain": [
       "'27'"
      ]
     },
     "execution_count": 84,
     "metadata": {},
     "output_type": "execute_result"
    }
   ],
   "source": [
    "vol"
   ]
  },
  {
   "cell_type": "code",
   "execution_count": null,
   "metadata": {},
   "outputs": [],
   "source": []
  }
 ],
 "metadata": {
  "kernelspec": {
   "display_name": "Python 3",
   "language": "python",
   "name": "python3"
  },
  "language_info": {
   "codemirror_mode": {
    "name": "ipython",
    "version": 3
   },
   "file_extension": ".py",
   "mimetype": "text/x-python",
   "name": "python",
   "nbconvert_exporter": "python",
   "pygments_lexer": "ipython3",
   "version": "3.7.1"
  }
 },
 "nbformat": 4,
 "nbformat_minor": 2
}

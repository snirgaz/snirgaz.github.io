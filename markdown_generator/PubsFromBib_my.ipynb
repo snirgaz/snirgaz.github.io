{
 "cells": [
  {
   "cell_type": "markdown",
   "metadata": {},
   "source": [
    "# Publications markdown generator for academicpages\n",
    "\n",
    "Takes a set of bibtex of publications and converts them for use with [academicpages.github.io](academicpages.github.io). This is an interactive Jupyter notebook ([see more info here](http://jupyter-notebook-beginner-guide.readthedocs.io/en/latest/what_is_jupyter.html)). \n",
    "\n",
    "The core python code is also in `pubsFromBibs.py`. \n",
    "Run either from the `markdown_generator` folder after replacing updating the publist dictionary with:\n",
    "* bib file names\n",
    "* specific venue keys based on your bib file preferences\n",
    "* any specific pre-text for specific files\n",
    "* Collection Name (future feature)\n",
    "\n",
    "TODO: Make this work with other databases of citations, \n",
    "TODO: Merge this with the existing TSV parsing solution"
   ]
  },
  {
   "cell_type": "code",
   "execution_count": 7,
   "metadata": {},
   "outputs": [],
   "source": [
    "from pybtex.database.input import bibtex\n",
    "import pybtex.database.input.bibtex \n",
    "from time import strptime\n",
    "import string\n",
    "import html\n",
    "import os\n",
    "import re"
   ]
  },
  {
   "cell_type": "code",
   "execution_count": 8,
   "metadata": {},
   "outputs": [
    {
     "data": {
      "text/plain": [
       "'/Users/snirgaz/.julia/conda/3/bin/python'"
      ]
     },
     "execution_count": 8,
     "metadata": {},
     "output_type": "execute_result"
    }
   ],
   "source": [
    "import sys\n",
    "sys.executable"
   ]
  },
  {
   "cell_type": "code",
   "execution_count": 9,
   "metadata": {},
   "outputs": [],
   "source": [
    "#todo: incorporate different collection types rather than a catch all publications, requires other changes to template\n",
    "publist = {\n",
    "#     \"proceeding\": {\n",
    "#         \"file\" : \"proceedings.bib\",\n",
    "#         \"venuekey\": \"booktitle\",\n",
    "#         \"venue-pretext\": \"In the proceedings of \",\n",
    "#         \"collection\" : {\"name\":\"publications\",\n",
    "#                         \"permalink\":\"/publication/\"}\n",
    "        \n",
    "#     },\n",
    "    \"journal\":{\n",
    "        \"file\": \"mypubs.bib\",\n",
    "        \"venuekey\" : \"journal\",\n",
    "        \"venue-pretext\" : \"\",\n",
    "        \"collection\" : {\"name\":\"publications\",\n",
    "                        \"permalink\":\"/publication/\"}\n",
    "    } \n",
    "}"
   ]
  },
  {
   "cell_type": "code",
   "execution_count": 10,
   "metadata": {},
   "outputs": [],
   "source": [
    "html_escape_table = {\n",
    "    \"&\": \"&amp;\",\n",
    "    '\"': \"&quot;\",\n",
    "    \"'\": \"&apos;\"\n",
    "    }\n",
    "\n",
    "def html_escape(text):\n",
    "    \"\"\"Produce entities within text.\"\"\"\n",
    "    return \"\".join(html_escape_table.get(c,c) for c in text)"
   ]
  },
  {
   "cell_type": "code",
   "execution_count": 12,
   "metadata": {},
   "outputs": [
    {
     "name": "stdout",
     "output_type": "stream",
     "text": [
      "2020\n",
      "0\n",
      "Pavel Volkov, Snir Gazit\n",
      "Magnon Bose-Einstein condensation and superconductivity in a frustrated Kondo lattice\n",
      "2020\n",
      "1\n",
      "Maxwell Block, Johannes Motruk, Snir Gazit, Michael Zaletel, Zeph Landau, Umesh Vazirani\n",
      "Performance of the rigorous renormalization group for first order phase transitions and topological phases\n",
      "2020\n",
      "2\n",
      "Frederik Nathan, Rongchun Ge, Snir Gazit, Mark Rudner\n",
      "Quasiperiodic Floquet-Thouless energy pump\n",
      "2020\n",
      "3\n",
      "Maxime Dupont, Snir Gazit\n",
      "Evidence for deconfined $U(1)$ gauge theory at the transition between toric code and double semion\n",
      "2020\n",
      "4\n",
      "Byungmin Kang, S. Parameswaran, Andrew Potter, Romain Vasseur\n",
      "Superuniversality from disorder at two-dimensional topological phase transitions\n",
      "2020\n",
      "5\n",
      "Maxime Dupont, Snir Gazit\n",
      "From trivial to topological paramagnets: The case of $Z_2$ and $Z_2^3$ symmetries in two dimensions\n",
      "2020\n",
      "6\n",
      "Yevgeny Slobodkin, Yotam Mazuz-Harpaz, Sivan Refaely-Abramson, Snir Gazit, Hadar Steinberg\n",
      "Quantum Phase Transitions of Trilayer Excitons in Atomically Thin Heterostructures\n",
      "2020\n",
      "7\n",
      "Christopher Olund, Maxwell Block, Snir Gazit, John McGreevy\n",
      "Adiabatic ground state preparation in an expanding lattice\n",
      "2020\n",
      "8\n",
      "Annabelle Bohrdt, Ahmed Omran, Eugene Demler, Snir Gazit\n",
      "Multiparticle Interactions for Ultracold Atoms in Optical Tweezers: Cyclic Ring-Exchange Terms\n",
      "2020\n",
      "9\n",
      "Snir Gazit, Fakher Assaad\n",
      "Fermi Surface Reconstruction without Symmetry Breaking\n",
      "2019\n",
      "10\n",
      "Thomas Schuster, Snir Gazit, Joel Moore\n",
      "Floquet Hopf Insulators\n",
      "2019\n",
      "11\n",
      "P Sidorenko, A Dikopoltsev, T Zahavy, O Lahav, S Gazit, Y Shechtman, A Szameit, D Tannor, Y Eldar, M Segev\n",
      "Improving techniques for diagnostics of laser pulses by compact representations\n",
      "2018\n",
      "12\n",
      "Snir Gazit, Fakher Assaad, Subir Sachdev, Ashvin Vishwanath\n",
      "Confinement transition of Z$_2$ gauge theories coupled to massless fermions: Emergent quantum chromodynamics and SO(5) symmetry\n",
      "2018\n",
      "13\n",
      "Michael Kolodrubetz, Frederik Nathan, Snir Gazit, Takahiro Morimoto\n",
      "Topological Floquet-Thouless Energy Pump\n",
      "2017\n",
      "14\n",
      "Gazit Snir, Mohit Randeria\n",
      "Emergent Dirac fermions and broken symmetries in confined and deconfined phases of Z$_2$ gauge theories\n",
      "2017\n",
      "15\n",
      "Andrew Lucas, Snir Gazit, Daniel Podolsky\n",
      "Dynamical Response near Quantum Critical Points\n",
      "2016\n",
      "16\n",
      "Snir Gazit, Daniel Podolsky, Heloise Nonne, Assa Auerbach\n",
      "Collective Modes in a Quantum Solid\n",
      "2016\n",
      "17\n",
      "Snir Gazit and Ashvin Vishwanath\n",
      "Bosonic topological phase in a paired superfluid\n",
      "2016\n",
      "18\n",
      "Ilia Khait, Snir Gazit, Norman Yao\n",
      "Spin transport of weakly disordered Heisenberg chain at infinite temperature\n",
      "2014\n",
      "19\n",
      "Snir Gazit, Daniel Podolsky\n",
      "Critical Capacitance and Charge-Vortex Duality Near the Superfluid-to-Insulator Transition\n",
      "2014\n",
      "20\n",
      "Oren Ofer, Lital Marcipar, Chandra Ravi, Snir Gazit, Daniel Podolsky, Daniel Arovas\n",
      "Dynamic spin fluctuations at T0 in a spin-12 ferromagnetic kagome lattice\n",
      "2013\n",
      "21\n",
      "Snir Gazit, Daniel Podolsky\n",
      "Fate of the Higgs Mode Near Quantum Criticality\n",
      "2013\n",
      "22\n",
      "Snir Gazit, Daniel Podolsky, Assa Auerbach\n",
      "Dynamics and conductivity near quantum criticality\n",
      "2012\n",
      "23\n",
      "Szameit A., Y. Shechtman, Osherovich E., Bullkich E., Sidorenko P., Dana H., Steiner S., Kley B., Gazit S., Cohen-Hyams T., Shoham S., Zibulevsky M., Yavneh I., Eldar C., Cohen O.\n",
      "Sparsity-based single-shot subwavelength coherent diffractive imaging\n",
      "2010\n",
      "24\n",
      "Yoav Shechtman, Snir Gazit, Alexander Szameit, Yonina Eldar\n",
      "Super-resolution and reconstruction of sparse images carried by incoherent light\n",
      "2009\n",
      "25\n",
      "Snir Gazit, Alexander Szameit, Yonina Eldar\n",
      "Super-resolution and reconstruction of sparse sub-wavelength images\n"
     ]
    },
    {
     "name": "stderr",
     "output_type": "stream",
     "text": [
      "<ipython-input-12-36dd9c6f70ba>:29: DeprecationWarning: first() is deprecated since 0.19: use Person.first_names instead\n",
      "  citation = author.first()[0]+\" \"+author.last()[0]\n",
      "<ipython-input-12-36dd9c6f70ba>:29: DeprecationWarning: last() is deprecated since 0.19: use Person.last_names instead\n",
      "  citation = author.first()[0]+\" \"+author.last()[0]\n",
      "<ipython-input-12-36dd9c6f70ba>:35: DeprecationWarning: first() is deprecated since 0.19: use Person.first_names instead\n",
      "  citation = citation+\", \"+author.first()[0]+\" \"+author.last()[0]\n",
      "<ipython-input-12-36dd9c6f70ba>:35: DeprecationWarning: last() is deprecated since 0.19: use Person.last_names instead\n",
      "  citation = citation+\", \"+author.first()[0]+\" \"+author.last()[0]\n",
      "<ipython-input-12-36dd9c6f70ba>:38: DeprecationWarning: first() is deprecated since 0.19: use Person.first_names instead\n",
      "  citation = citation+\" and \"+author.first()[0]+\" \"+author.last()[0]+\". \"\n",
      "<ipython-input-12-36dd9c6f70ba>:38: DeprecationWarning: last() is deprecated since 0.19: use Person.last_names instead\n",
      "  citation = citation+\" and \"+author.first()[0]+\" \"+author.last()[0]+\". \"\n",
      "<ipython-input-12-36dd9c6f70ba>:32: DeprecationWarning: first() is deprecated since 0.19: use Person.first_names instead\n",
      "  citation = citation+\" and \"+author.first()[0]+\" \"+author.last()[0]\n",
      "<ipython-input-12-36dd9c6f70ba>:32: DeprecationWarning: last() is deprecated since 0.19: use Person.last_names instead\n",
      "  citation = citation+\" and \"+author.first()[0]+\" \"+author.last()[0]\n"
     ]
    }
   ],
   "source": [
    "cts=[]\n",
    "for pubsource in publist:\n",
    "    parser = bibtex.Parser()\n",
    "    bibdata = parser.parse_file(publist[pubsource][\"file\"])\n",
    "    entries_sorted=sorted(bibdata.entries,key=lambda x: bibdata.entries[x].fields[\"year\"],reverse=True)\n",
    "    #loop through the individual references in a given bibtex file\n",
    "    for ind,bib_id in enumerate(entries_sorted):\n",
    "        entry=bibdata.entries[bib_id]\n",
    "        b=entry.fields\n",
    "        pub_year = f'{b[\"year\"]}'\n",
    "        print(pub_year)\n",
    "        print(ind)\n",
    "        #todo: this hack for month and day needs some cleanup\n",
    "        if \"month\" in b.keys(): \n",
    "            if(len(b[\"month\"])<3):\n",
    "                pub_month = \"0\"+b[\"month\"]\n",
    "                pub_month = pub_month[-2:]\n",
    "            elif(b[\"month\"] not in range(12)):\n",
    "                tmnth = strptime(b[\"month\"][:3],'%b').tm_mon   \n",
    "                pub_month = \"{:02d}\".format(tmnth) \n",
    "            else:\n",
    "                pub_month = str(b[\"month\"])\n",
    "        if \"day\" in b.keys(): \n",
    "            pub_day = str(b[\"day\"])\n",
    "        citation=\"\"\n",
    "        persons=entry.persons[\"author\"]\n",
    "        num_of_authors=len(persons)\n",
    "        author=persons[0]\n",
    "        citation = author.first()[0]+\" \"+author.last()[0]\n",
    "        if num_of_authors==2:\n",
    "            author=persons[1]\n",
    "            citation = citation+\" and \"+author.first()[0]+\" \"+author.last()[0]\n",
    "        for i in range(1,num_of_authors-1):\n",
    "            author=persons[i]\n",
    "            citation = citation+\", \"+author.first()[0]+\" \"+author.last()[0]\n",
    "        print(citation)\n",
    "        author=persons[-1]\n",
    "        citation = citation+\" and \"+author.first()[0]+\" \"+author.last()[0]+\". \"\n",
    "        url = b[\"url\"]\n",
    "        clean_title = b[\"title\"].replace(\"{\", \"\").replace(\"}\",\"\").replace(\"\\\\\",\"\")\n",
    "        print(clean_title)\n",
    "        citation = citation+\"<a href=\\\"\"+url+\"\\\">\"+clean_title+\".</a>\"\n",
    "        journal = entry.fields[\"journal\"]\n",
    "        citation = citation+\"<em> \"+journal+\"</em> \"\n",
    "        if \"arXiv\" in journal:\n",
    "            citation= citation+\",\"+pub_year\n",
    "        else:\n",
    "            vol=b[\"volume\"]\n",
    "            if \"number\" in b.keys(): \n",
    "                num=b[\"number\"]\n",
    "            else:\n",
    "                num=\"\"\n",
    "            pages=b[\"pages\"]\n",
    "\n",
    "            if \"number\" in b.keys():\n",
    "                citation = citation+vol+\"(\"+num+\")\"+\":\"+pages+\",\"+pub_year\n",
    "            else:\n",
    "                citation= citation+vol+\":\"+pages+\",\"+pub_year\n",
    "        cts.append(citation)\n",
    "        # field may not exist for a reference\n"
   ]
  },
  {
   "cell_type": "code",
   "execution_count": 13,
   "metadata": {},
   "outputs": [],
   "source": [
    "all_text=\"<ol>\"\n",
    "for c in cts:\n",
    "    all_text+=\"<li>\"+c+\"</li>\"\n",
    "all_text+=\"</ol>\""
   ]
  },
  {
   "cell_type": "code",
   "execution_count": 14,
   "metadata": {},
   "outputs": [
    {
     "data": {
      "text/plain": [
       "'<ol><li>Pavel Volkov, Snir Gazit and Jedediah Pixley. <a href=\"https://www.pnas.org/content/117/34/20462\">Magnon Bose-Einstein condensation and superconductivity in a frustrated Kondo lattice.</a><em> Proceedings of the National Academy of Sciences</em> 117(34):20462--20467,2020</li><li>Maxwell Block, Johannes Motruk, Snir Gazit, Michael Zaletel, Zeph Landau, Umesh Vazirani and Norman Yao. <a href=\"https://arxiv.org/abs/2010.15851\">Performance of the rigorous renormalization group for first order phase transitions and topological phases.</a><em> arXiv e-prints</em> ,2020</li><li>Frederik Nathan, Rongchun Ge, Snir Gazit, Mark Rudner and Michael Kolodrubetz. <a href=\"https://arxiv.org/abs/2010.11485\">Quasiperiodic Floquet-Thouless energy pump.</a><em> arXiv e-prints</em> ,2020</li><li>Maxime Dupont, Snir Gazit and Thomas Scaffidi. <a href=\"https://arxiv.org/abs/2008.06509\">Evidence for deconfined $U(1)$ gauge theory at the transition between toric code and double semion.</a><em> arXiv e-prints</em> ,2020</li><li>Byungmin Kang, S. Parameswaran, Andrew Potter, Romain Vasseur and Snir Gazit. <a href=\"https://link.aps.org/doi/10.1103/PhysRevB.102.224204\">Superuniversality from disorder at two-dimensional topological phase transitions.</a><em> Phys. Rev. B</em> 102:224204,2020</li><li>Maxime Dupont, Snir Gazit and Thomas Scaffidi. <a href=\"https://arxiv.org/abs/2008.11206\">From trivial to topological paramagnets: The case of $Z_2$ and $Z_2^3$ symmetries in two dimensions.</a><em> arXiv e-prints</em> ,2020</li><li>Yevgeny Slobodkin, Yotam Mazuz-Harpaz, Sivan Refaely-Abramson, Snir Gazit, Hadar Steinberg and Ronen Rapaport. <a href=\"https://link.aps.org/doi/10.1103/PhysRevLett.125.255301\">Quantum Phase Transitions of Trilayer Excitons in Atomically Thin Heterostructures.</a><em> Phys. Rev. Lett.</em> 125:255301,2020</li><li>Christopher Olund, Maxwell Block, Snir Gazit, John McGreevy and Norman Yao. <a href=\"https://link.aps.org/doi/10.1103/PhysRevB.101.155152\">Adiabatic ground state preparation in an expanding lattice.</a><em> Phys. Rev. B</em> 101:155152,2020</li><li>Annabelle Bohrdt, Ahmed Omran, Eugene Demler, Snir Gazit and Fabian Grusdt. <a href=\"https://link.aps.org/doi/10.1103/PhysRevLett.124.073601\">Multiparticle Interactions for Ultracold Atoms in Optical Tweezers: Cyclic Ring-Exchange Terms.</a><em> Phys. Rev. Lett.</em> 124:073601,2020</li><li>Snir Gazit, Fakher Assaad and Subir Sachdev. <a href=\"https://link.aps.org/doi/10.1103/PhysRevX.10.041057\">Fermi Surface Reconstruction without Symmetry Breaking.</a><em> Phys. Rev. X</em> 10:041057,2020</li><li>Thomas Schuster, Snir Gazit, Joel Moore and Norman Yao. <a href=\"https://link.aps.org/doi/10.1103/PhysRevLett.123.266803\">Floquet Hopf Insulators.</a><em> Phys. Rev. Lett.</em> 123:266803,2019</li><li>P Sidorenko, A Dikopoltsev, T Zahavy, O Lahav, S Gazit, Y Shechtman, A Szameit, D Tannor, Y Eldar, M Segev and O Cohen. <a href=\"http://www.opticsexpress.org/abstract.cfm?URI=oe-27-6-8920\">Improving techniques for diagnostics of laser pulses by compact representations.</a><em> Opt. Express</em> 27(6):8920--8934,2019</li><li>Snir Gazit, Fakher Assaad, Subir Sachdev, Ashvin Vishwanath and Chong Wang. <a href=\"https://www.pnas.org/content/115/30/E6987\">Confinement transition of Z$_2$ gauge theories coupled to massless fermions: Emergent quantum chromodynamics and SO(5) symmetry.</a><em> Proceedings of the National Academy of Sciences</em> 115(30):E6987--E6995,2018</li><li>Michael Kolodrubetz, Frederik Nathan, Snir Gazit, Takahiro Morimoto and Joel Moore. <a href=\"https://link.aps.org/doi/10.1103/PhysRevLett.120.150601\">Topological Floquet-Thouless Energy Pump.</a><em> Phys. Rev. Lett.</em> 120(15):150601,2018</li><li>Gazit Snir, Mohit Randeria and Vishwanath Ashvin. <a href=\"https://doi.org/10.1038/nphys4028\">Emergent Dirac fermions and broken symmetries in confined and deconfined phases of Z$_2$ gauge theories.</a><em> Nature Physics</em> 13:484–490,2017</li><li>Andrew Lucas, Snir Gazit, Daniel Podolsky and William Witczak-Krempa. <a href=\"https://link.aps.org/doi/10.1103/PhysRevLett.118.056601\">Dynamical Response near Quantum Critical Points.</a><em> Phys. Rev. Lett.</em> 118(5):56601,2017</li><li>Snir Gazit, Daniel Podolsky, Heloise Nonne, Assa Auerbach and Daniel Arovas. <a href=\"https://link.aps.org/doi/10.1103/PhysRevLett.117.085302\">Collective Modes in a Quantum Solid.</a><em> Phys. Rev. Lett.</em> 117(8):85302,2016</li><li>Snir Gazit and Ashvin Vishwanath and Ashvin Vishwanath. <a href=\"https://link.aps.org/doi/10.1103/PhysRevB.93.115146\">Bosonic topological phase in a paired superfluid.</a><em> Phys. Rev. B</em> 93(11):115146,2016</li><li>Ilia Khait, Snir Gazit, Norman Yao and Assa Auerbach. <a href=\"https://link.aps.org/doi/10.1103/PhysRevB.93.224205\">Spin transport of weakly disordered Heisenberg chain at infinite temperature.</a><em> Phys. Rev. B</em> 93(22):224205,2016</li><li>Snir Gazit, Daniel Podolsky and Assa Auerbach. <a href=\"https://link.aps.org/doi/10.1103/PhysRevLett.113.240601\">Critical Capacitance and Charge-Vortex Duality Near the Superfluid-to-Insulator Transition.</a><em> Phys. Rev. Lett.</em> 113(24):240601,2014</li><li>Oren Ofer, Lital Marcipar, Chandra Ravi, Snir Gazit, Daniel Podolsky, Daniel Arovas and Amit Keren. <a href=\"https://link.aps.org/doi/10.1103/PhysRevB.89.205116\">Dynamic spin fluctuations at T0 in a spin-12 ferromagnetic kagome lattice.</a><em> Phys. Rev. B</em> 89(20):205116,2014</li><li>Snir Gazit, Daniel Podolsky and Assa Auerbach. <a href=\"https://link.aps.org/doi/10.1103/PhysRevLett.110.140401\">Fate of the Higgs Mode Near Quantum Criticality.</a><em> Phys. Rev. Lett.</em> 110(14):140401,2013</li><li>Snir Gazit, Daniel Podolsky, Assa Auerbach and Daniel Arovas. <a href=\"https://link.aps.org/doi/10.1103/PhysRevB.88.235108\">Dynamics and conductivity near quantum criticality.</a><em> Phys. Rev. B</em> 88(23):235108,2013</li><li>Szameit A., Y. Shechtman, Osherovich E., Bullkich E., Sidorenko P., Dana H., Steiner S., Kley B., Gazit S., Cohen-Hyams T., Shoham S., Zibulevsky M., Yavneh I., Eldar C., Cohen O. and Segev M. <a href=\"https://doi.org/10.1038/nmat3289\">Sparsity-based single-shot subwavelength coherent diffractive imaging.</a><em> Nature Materials</em> 11:455–459,2012</li><li>Yoav Shechtman, Snir Gazit, Alexander Szameit, Yonina Eldar and Mordechai Segev. <a href=\"http://ol.osa.org/abstract.cfm?URI=ol-35-8-1148\">Super-resolution and reconstruction of sparse images carried by incoherent light.</a><em> Opt. Lett.</em> 35(8):1148--1150,2010</li><li>Snir Gazit, Alexander Szameit, Yonina Eldar and Mordechai Segev. <a href=\"http://www.opticsexpress.org/abstract.cfm?URI=oe-17-26-23920\">Super-resolution and reconstruction of sparse sub-wavelength images.</a><em> Opt. Express</em> 17(26):23920--23946,2009</li></ol>'"
      ]
     },
     "execution_count": 14,
     "metadata": {},
     "output_type": "execute_result"
    }
   ],
   "source": [
    "all_text"
   ]
  },
  {
   "cell_type": "code",
   "execution_count": 20,
   "metadata": {},
   "outputs": [
    {
     "ename": "BibliographyDataError",
     "evalue": "repeated bibliograhpy entry: Volkov20462",
     "output_type": "error",
     "traceback": [
      "\u001b[0;31m---------------------------------------------------------------------------\u001b[0m",
      "\u001b[0;31mBibliographyDataError\u001b[0m                     Traceback (most recent call last)",
      "\u001b[0;32m<ipython-input-20-cc50a7c8a55a>\u001b[0m in \u001b[0;36m<module>\u001b[0;34m\u001b[0m\n\u001b[0;32m----> 1\u001b[0;31m \u001b[0mbibdata\u001b[0m \u001b[0;34m=\u001b[0m \u001b[0mparser\u001b[0m\u001b[0;34m.\u001b[0m\u001b[0mparse_file\u001b[0m\u001b[0;34m(\u001b[0m\u001b[0mpublist\u001b[0m\u001b[0;34m[\u001b[0m\u001b[0;34m\"journal\"\u001b[0m\u001b[0;34m]\u001b[0m\u001b[0;34m[\u001b[0m\u001b[0;34m\"file\"\u001b[0m\u001b[0;34m]\u001b[0m\u001b[0;34m)\u001b[0m\u001b[0;34m\u001b[0m\u001b[0;34m\u001b[0m\u001b[0m\n\u001b[0m",
      "\u001b[0;32m~/.julia/conda/3/lib/python3.8/site-packages/pybtex/database/input/__init__.py\u001b[0m in \u001b[0;36mparse_file\u001b[0;34m(self, filename, file_suffix)\u001b[0m\n\u001b[1;32m     52\u001b[0m         \u001b[0;32mwith\u001b[0m \u001b[0mopen_file\u001b[0m\u001b[0;34m(\u001b[0m\u001b[0mfilename\u001b[0m\u001b[0;34m,\u001b[0m \u001b[0mencoding\u001b[0m\u001b[0;34m=\u001b[0m\u001b[0mself\u001b[0m\u001b[0;34m.\u001b[0m\u001b[0mencoding\u001b[0m\u001b[0;34m)\u001b[0m \u001b[0;32mas\u001b[0m \u001b[0mf\u001b[0m\u001b[0;34m:\u001b[0m\u001b[0;34m\u001b[0m\u001b[0;34m\u001b[0m\u001b[0m\n\u001b[1;32m     53\u001b[0m             \u001b[0;32mtry\u001b[0m\u001b[0;34m:\u001b[0m\u001b[0;34m\u001b[0m\u001b[0;34m\u001b[0m\u001b[0m\n\u001b[0;32m---> 54\u001b[0;31m                 \u001b[0mself\u001b[0m\u001b[0;34m.\u001b[0m\u001b[0mparse_stream\u001b[0m\u001b[0;34m(\u001b[0m\u001b[0mf\u001b[0m\u001b[0;34m)\u001b[0m\u001b[0;34m\u001b[0m\u001b[0;34m\u001b[0m\u001b[0m\n\u001b[0m\u001b[1;32m     55\u001b[0m             \u001b[0;32mexcept\u001b[0m \u001b[0mUnicodeDecodeError\u001b[0m \u001b[0;32mas\u001b[0m \u001b[0me\u001b[0m\u001b[0;34m:\u001b[0m\u001b[0;34m\u001b[0m\u001b[0;34m\u001b[0m\u001b[0m\n\u001b[1;32m     56\u001b[0m                 \u001b[0;32mraise\u001b[0m \u001b[0mPybtexError\u001b[0m\u001b[0;34m(\u001b[0m\u001b[0msix\u001b[0m\u001b[0;34m.\u001b[0m\u001b[0mtext_type\u001b[0m\u001b[0;34m(\u001b[0m\u001b[0me\u001b[0m\u001b[0;34m)\u001b[0m\u001b[0;34m,\u001b[0m \u001b[0mfilename\u001b[0m\u001b[0;34m=\u001b[0m\u001b[0mself\u001b[0m\u001b[0;34m.\u001b[0m\u001b[0mfilename\u001b[0m\u001b[0;34m)\u001b[0m\u001b[0;34m\u001b[0m\u001b[0;34m\u001b[0m\u001b[0m\n",
      "\u001b[0;32m~/.julia/conda/3/lib/python3.8/site-packages/pybtex/database/input/bibtex.py\u001b[0m in \u001b[0;36mparse_stream\u001b[0;34m(self, stream)\u001b[0m\n\u001b[1;32m    410\u001b[0m     \u001b[0;32mdef\u001b[0m \u001b[0mparse_stream\u001b[0m\u001b[0;34m(\u001b[0m\u001b[0mself\u001b[0m\u001b[0;34m,\u001b[0m \u001b[0mstream\u001b[0m\u001b[0;34m)\u001b[0m\u001b[0;34m:\u001b[0m\u001b[0;34m\u001b[0m\u001b[0;34m\u001b[0m\u001b[0m\n\u001b[1;32m    411\u001b[0m         \u001b[0mtext\u001b[0m \u001b[0;34m=\u001b[0m \u001b[0mstream\u001b[0m\u001b[0;34m.\u001b[0m\u001b[0mread\u001b[0m\u001b[0;34m(\u001b[0m\u001b[0;34m)\u001b[0m\u001b[0;34m\u001b[0m\u001b[0;34m\u001b[0m\u001b[0m\n\u001b[0;32m--> 412\u001b[0;31m         \u001b[0;32mreturn\u001b[0m \u001b[0mself\u001b[0m\u001b[0;34m.\u001b[0m\u001b[0mparse_string\u001b[0m\u001b[0;34m(\u001b[0m\u001b[0mtext\u001b[0m\u001b[0;34m)\u001b[0m\u001b[0;34m\u001b[0m\u001b[0;34m\u001b[0m\u001b[0m\n\u001b[0m",
      "\u001b[0;32m~/.julia/conda/3/lib/python3.8/site-packages/pybtex/database/input/bibtex.py\u001b[0m in \u001b[0;36mparse_string\u001b[0;34m(self, text)\u001b[0m\n\u001b[1;32m    405\u001b[0m                 \u001b[0mself\u001b[0m\u001b[0;34m.\u001b[0m\u001b[0mprocess_preamble\u001b[0m\u001b[0;34m(\u001b[0m\u001b[0;34m*\u001b[0m\u001b[0mentry\u001b[0m\u001b[0;34m[\u001b[0m\u001b[0;36m1\u001b[0m\u001b[0;34m]\u001b[0m\u001b[0;34m)\u001b[0m\u001b[0;34m\u001b[0m\u001b[0;34m\u001b[0m\u001b[0m\n\u001b[1;32m    406\u001b[0m             \u001b[0;32melse\u001b[0m\u001b[0;34m:\u001b[0m\u001b[0;34m\u001b[0m\u001b[0;34m\u001b[0m\u001b[0m\n\u001b[0;32m--> 407\u001b[0;31m                 \u001b[0mself\u001b[0m\u001b[0;34m.\u001b[0m\u001b[0mprocess_entry\u001b[0m\u001b[0;34m(\u001b[0m\u001b[0mentry_type\u001b[0m\u001b[0;34m,\u001b[0m \u001b[0;34m*\u001b[0m\u001b[0mentry\u001b[0m\u001b[0;34m[\u001b[0m\u001b[0;36m1\u001b[0m\u001b[0;34m]\u001b[0m\u001b[0;34m)\u001b[0m\u001b[0;34m\u001b[0m\u001b[0;34m\u001b[0m\u001b[0m\n\u001b[0m\u001b[1;32m    408\u001b[0m         \u001b[0;32mreturn\u001b[0m \u001b[0mself\u001b[0m\u001b[0;34m.\u001b[0m\u001b[0mdata\u001b[0m\u001b[0;34m\u001b[0m\u001b[0;34m\u001b[0m\u001b[0m\n\u001b[1;32m    409\u001b[0m \u001b[0;34m\u001b[0m\u001b[0m\n",
      "\u001b[0;32m~/.julia/conda/3/lib/python3.8/site-packages/pybtex/database/input/bibtex.py\u001b[0m in \u001b[0;36mprocess_entry\u001b[0;34m(self, entry_type, key, fields)\u001b[0m\n\u001b[1;32m    372\u001b[0m                 \u001b[0mentry\u001b[0m\u001b[0;34m.\u001b[0m\u001b[0mfields\u001b[0m\u001b[0;34m[\u001b[0m\u001b[0mfield_name\u001b[0m\u001b[0;34m]\u001b[0m \u001b[0;34m=\u001b[0m \u001b[0mfield_value\u001b[0m\u001b[0;34m\u001b[0m\u001b[0;34m\u001b[0m\u001b[0m\n\u001b[1;32m    373\u001b[0m             \u001b[0mseen_fields\u001b[0m\u001b[0;34m.\u001b[0m\u001b[0madd\u001b[0m\u001b[0;34m(\u001b[0m\u001b[0mfield_name\u001b[0m\u001b[0;34m.\u001b[0m\u001b[0mlower\u001b[0m\u001b[0;34m(\u001b[0m\u001b[0;34m)\u001b[0m\u001b[0;34m)\u001b[0m\u001b[0;34m\u001b[0m\u001b[0;34m\u001b[0m\u001b[0m\n\u001b[0;32m--> 374\u001b[0;31m         \u001b[0mself\u001b[0m\u001b[0;34m.\u001b[0m\u001b[0mdata\u001b[0m\u001b[0;34m.\u001b[0m\u001b[0madd_entry\u001b[0m\u001b[0;34m(\u001b[0m\u001b[0mkey\u001b[0m\u001b[0;34m,\u001b[0m \u001b[0mentry\u001b[0m\u001b[0;34m)\u001b[0m\u001b[0;34m\u001b[0m\u001b[0;34m\u001b[0m\u001b[0m\n\u001b[0m\u001b[1;32m    375\u001b[0m \u001b[0;34m\u001b[0m\u001b[0m\n\u001b[1;32m    376\u001b[0m     \u001b[0;32mdef\u001b[0m \u001b[0mprocess_preamble\u001b[0m\u001b[0;34m(\u001b[0m\u001b[0mself\u001b[0m\u001b[0;34m,\u001b[0m \u001b[0mvalue_list\u001b[0m\u001b[0;34m)\u001b[0m\u001b[0;34m:\u001b[0m\u001b[0;34m\u001b[0m\u001b[0;34m\u001b[0m\u001b[0m\n",
      "\u001b[0;32m~/.julia/conda/3/lib/python3.8/site-packages/pybtex/database/__init__.py\u001b[0m in \u001b[0;36madd_entry\u001b[0;34m(self, key, entry)\u001b[0m\n\u001b[1;32m    170\u001b[0m             \u001b[0;32mreturn\u001b[0m\u001b[0;34m\u001b[0m\u001b[0;34m\u001b[0m\u001b[0m\n\u001b[1;32m    171\u001b[0m         \u001b[0;32mif\u001b[0m \u001b[0mkey\u001b[0m \u001b[0;32min\u001b[0m \u001b[0mself\u001b[0m\u001b[0;34m.\u001b[0m\u001b[0mentries\u001b[0m\u001b[0;34m:\u001b[0m\u001b[0;34m\u001b[0m\u001b[0;34m\u001b[0m\u001b[0m\n\u001b[0;32m--> 172\u001b[0;31m             \u001b[0mreport_error\u001b[0m\u001b[0;34m(\u001b[0m\u001b[0mBibliographyDataError\u001b[0m\u001b[0;34m(\u001b[0m\u001b[0;34m'repeated bibliograhpy entry: %s'\u001b[0m \u001b[0;34m%\u001b[0m \u001b[0mkey\u001b[0m\u001b[0;34m)\u001b[0m\u001b[0;34m)\u001b[0m\u001b[0;34m\u001b[0m\u001b[0;34m\u001b[0m\u001b[0m\n\u001b[0m\u001b[1;32m    173\u001b[0m             \u001b[0;32mreturn\u001b[0m\u001b[0;34m\u001b[0m\u001b[0;34m\u001b[0m\u001b[0m\n\u001b[1;32m    174\u001b[0m         \u001b[0mentry\u001b[0m\u001b[0;34m.\u001b[0m\u001b[0mkey\u001b[0m \u001b[0;34m=\u001b[0m \u001b[0mself\u001b[0m\u001b[0;34m.\u001b[0m\u001b[0mget_canonical_key\u001b[0m\u001b[0;34m(\u001b[0m\u001b[0mkey\u001b[0m\u001b[0;34m)\u001b[0m\u001b[0;34m\u001b[0m\u001b[0;34m\u001b[0m\u001b[0m\n",
      "\u001b[0;32m~/.julia/conda/3/lib/python3.8/site-packages/pybtex/errors.py\u001b[0m in \u001b[0;36mreport_error\u001b[0;34m(exception)\u001b[0m\n\u001b[1;32m     76\u001b[0m \u001b[0;34m\u001b[0m\u001b[0m\n\u001b[1;32m     77\u001b[0m     \u001b[0;32mif\u001b[0m \u001b[0mstrict\u001b[0m\u001b[0;34m:\u001b[0m\u001b[0;34m\u001b[0m\u001b[0;34m\u001b[0m\u001b[0m\n\u001b[0;32m---> 78\u001b[0;31m         \u001b[0;32mraise\u001b[0m \u001b[0mexception\u001b[0m\u001b[0;34m\u001b[0m\u001b[0;34m\u001b[0m\u001b[0m\n\u001b[0m\u001b[1;32m     79\u001b[0m     \u001b[0;32melse\u001b[0m\u001b[0;34m:\u001b[0m\u001b[0;34m\u001b[0m\u001b[0;34m\u001b[0m\u001b[0m\n\u001b[1;32m     80\u001b[0m         \u001b[0mprint_error\u001b[0m\u001b[0;34m(\u001b[0m\u001b[0mexception\u001b[0m\u001b[0;34m,\u001b[0m \u001b[0;34m'WARNING: '\u001b[0m\u001b[0;34m)\u001b[0m\u001b[0;34m\u001b[0m\u001b[0;34m\u001b[0m\u001b[0m\n",
      "\u001b[0;31mBibliographyDataError\u001b[0m: repeated bibliograhpy entry: Volkov20462"
     ]
    }
   ],
   "source": [
    "bibdata = parser.parse_file(publist[\"journal\"][\"file\"])\n"
   ]
  },
  {
   "cell_type": "code",
   "execution_count": 8,
   "metadata": {},
   "outputs": [
    {
     "data": {
      "text/plain": [
       "'Opt. Express'"
      ]
     },
     "execution_count": 8,
     "metadata": {},
     "output_type": "execute_result"
    }
   ],
   "source": [
    "bibdata.entries['Gazit2009'].fields[\"journal\"]"
   ]
  },
  {
   "cell_type": "code",
   "execution_count": 26,
   "metadata": {},
   "outputs": [
    {
     "ename": "TypeError",
     "evalue": "unsupported operand type(s) for +: 'method' and 'str'",
     "output_type": "error",
     "traceback": [
      "\u001b[0;31m---------------------------------------------------------------------------\u001b[0m",
      "\u001b[0;31mTypeError\u001b[0m                                 Traceback (most recent call last)",
      "\u001b[0;32m<ipython-input-26-06910d3beeb6>\u001b[0m in \u001b[0;36m<module>\u001b[0;34m()\u001b[0m\n\u001b[1;32m      4\u001b[0m \u001b[0mnum_of_authors\u001b[0m\u001b[0;34m=\u001b[0m\u001b[0mlen\u001b[0m\u001b[0;34m(\u001b[0m\u001b[0mpersons\u001b[0m\u001b[0;34m)\u001b[0m\u001b[0;34m\u001b[0m\u001b[0;34m\u001b[0m\u001b[0m\n\u001b[1;32m      5\u001b[0m \u001b[0mauthor\u001b[0m\u001b[0;34m=\u001b[0m\u001b[0mpersons\u001b[0m\u001b[0;34m[\u001b[0m\u001b[0;36m0\u001b[0m\u001b[0;34m]\u001b[0m\u001b[0;34m\u001b[0m\u001b[0;34m\u001b[0m\u001b[0m\n\u001b[0;32m----> 6\u001b[0;31m \u001b[0mcitation\u001b[0m \u001b[0;34m=\u001b[0m \u001b[0mauthor\u001b[0m\u001b[0;34m.\u001b[0m\u001b[0mfirst\u001b[0m\u001b[0;34m+\u001b[0m\u001b[0;34m\" \"\u001b[0m\u001b[0;34m+\u001b[0m\u001b[0mauthor\u001b[0m\u001b[0;34m.\u001b[0m\u001b[0mlast\u001b[0m\u001b[0;34m\u001b[0m\u001b[0;34m\u001b[0m\u001b[0m\n\u001b[0m\u001b[1;32m      7\u001b[0m \u001b[0;32mif\u001b[0m \u001b[0mnum_of_authors\u001b[0m\u001b[0;34m==\u001b[0m\u001b[0;36m2\u001b[0m\u001b[0;34m:\u001b[0m\u001b[0;34m\u001b[0m\u001b[0;34m\u001b[0m\u001b[0m\n\u001b[1;32m      8\u001b[0m     \u001b[0mcitation\u001b[0m \u001b[0;34m=\u001b[0m \u001b[0mcitation\u001b[0m\u001b[0;34m+\u001b[0m\u001b[0;34m\" and \"\u001b[0m\u001b[0;34m+\u001b[0m\u001b[0mauthor\u001b[0m\u001b[0;34m.\u001b[0m\u001b[0mfirst\u001b[0m\u001b[0;34m+\u001b[0m\u001b[0;34m\" \"\u001b[0m\u001b[0;34m+\u001b[0m\u001b[0mauthor\u001b[0m\u001b[0;34m.\u001b[0m\u001b[0mlast\u001b[0m\u001b[0;34m\u001b[0m\u001b[0;34m\u001b[0m\u001b[0m\n",
      "\u001b[0;31mTypeError\u001b[0m: unsupported operand type(s) for +: 'method' and 'str'"
     ]
    }
   ],
   "source": [
    "citation=\"\"\n",
    "entry=bibdata.entries['Gazit2018']\n",
    "persons=entry.persons[\"author\"]\n",
    "num_of_authors=len(persons)\n",
    "author=persons[0]\n",
    "citation = author.first+\" \"+author.last\n",
    "if num_of_authors==2:\n",
    "    citation = citation+\" and \"+author.first+\" \"+author.last\n",
    "for i in range(1,num_of_authors-1):\n",
    "    author=persons[i]\n",
    "    citation = citation+\", \"+author.first+\" \"+author.last\n",
    "author=persons[-1]\n",
    "citation = citation+\" and \"+author.first+\" \"+author.last+\".\"\n",
    "b=entry.fields\n",
    "url = b[\"url\"]\n",
    "clean_title = b[\"title\"].replace(\"{\", \"\").replace(\"}\",\"\").replace(\"\\\\\",\"\")\n",
    "citation = citation+\"<a href=\\\">\"+url+\"\\\"\"+clean_title+\".</a>\"\n",
    "journal = entry.fields[\"journal\"]\n",
    "citation = citation+\"<em> \"+journal+\"</em>\"\n",
    "vol=b[\"volume\"]\n",
    "num=b[\"number\"]\n",
    "pages=b[\"pages\"]\n",
    "pub_year = f'{b[\"year\"]}'\n",
    "#todo: this hack for month and day needs some cleanup\n",
    "if \"month\" in b.keys(): \n",
    "    if(len(b[\"month\"])<3):\n",
    "        pub_month = \"0\"+b[\"month\"]\n",
    "        pub_month = pub_month[-2:]\n",
    "    elif(b[\"month\"] not in range(12)):\n",
    "        tmnth = strptime(b[\"month\"][:3],'%b').tm_mon   \n",
    "        pub_month = \"{:02d}\".format(tmnth) \n",
    "    else:\n",
    "        pub_month = str(b[\"month\"])\n",
    "if \"day\" in b.keys(): \n",
    "    pub_day = str(b[\"day\"])\n",
    "citation = citation+vol+\"(\"+num+\")\"+\":\"+pages+pub_year"
   ]
  },
  {
   "cell_type": "code",
   "execution_count": 10,
   "metadata": {},
   "outputs": [
    {
     "data": {
      "text/plain": [
       "'Snir Gazit, Fakher Assaad, Subir Sachdev, Ashvin Vishwanath and Chong Wang.<a href=\">https://www.pnas.org/content/115/30/E6987\"Confinement transition of Z$_2$ gauge theories coupled to massless fermions: Emergent quantum chromodynamics and SO(5) symmetry.</a><em> Proceedings of the National Academy of Sciences</em>115(30):E6987--E69952018'"
      ]
     },
     "execution_count": 10,
     "metadata": {},
     "output_type": "execute_result"
    }
   ],
   "source": [
    "citation"
   ]
  },
  {
   "cell_type": "code",
   "execution_count": 84,
   "metadata": {},
   "outputs": [
    {
     "data": {
      "text/plain": [
       "'27'"
      ]
     },
     "execution_count": 84,
     "metadata": {},
     "output_type": "execute_result"
    }
   ],
   "source": [
    "vol"
   ]
  },
  {
   "cell_type": "code",
   "execution_count": 23,
   "metadata": {},
   "outputs": [
    {
     "data": {
      "text/plain": [
       "Person('Gazit, Snir')"
      ]
     },
     "execution_count": 23,
     "metadata": {},
     "output_type": "execute_result"
    }
   ],
   "source": [
    "bibtex.Person(\"Gazit, Snir\")"
   ]
  },
  {
   "cell_type": "code",
   "execution_count": 24,
   "metadata": {},
   "outputs": [],
   "source": [
    "?bibtex.Person"
   ]
  },
  {
   "cell_type": "code",
   "execution_count": null,
   "metadata": {},
   "outputs": [],
   "source": []
  }
 ],
 "metadata": {
  "@webio": {
   "lastCommId": null,
   "lastKernelId": null
  },
  "kernelspec": {
   "display_name": "Python 3",
   "language": "python",
   "name": "python3"
  },
  "language_info": {
   "codemirror_mode": {
    "name": "ipython",
    "version": 3
   },
   "file_extension": ".py",
   "mimetype": "text/x-python",
   "name": "python",
   "nbconvert_exporter": "python",
   "pygments_lexer": "ipython3",
   "version": "3.8.3"
  }
 },
 "nbformat": 4,
 "nbformat_minor": 4
}

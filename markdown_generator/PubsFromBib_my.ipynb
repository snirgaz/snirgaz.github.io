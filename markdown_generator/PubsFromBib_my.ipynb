{
 "cells": [
  {
   "cell_type": "markdown",
   "metadata": {},
   "source": [
    "# Publications markdown generator for academicpages\n",
    "\n",
    "Takes a set of bibtex of publications and converts them for use with [academicpages.github.io](academicpages.github.io). This is an interactive Jupyter notebook ([see more info here](http://jupyter-notebook-beginner-guide.readthedocs.io/en/latest/what_is_jupyter.html)). \n",
    "\n",
    "The core python code is also in `pubsFromBibs.py`. \n",
    "Run either from the `markdown_generator` folder after replacing updating the publist dictionary with:\n",
    "* bib file names\n",
    "* specific venue keys based on your bib file preferences\n",
    "* any specific pre-text for specific files\n",
    "* Collection Name (future feature)\n",
    "\n",
    "TODO: Make this work with other databases of citations, \n",
    "TODO: Merge this with the existing TSV parsing solution"
   ]
  },
  {
   "cell_type": "code",
   "execution_count": 1,
   "metadata": {},
   "outputs": [],
   "source": [
    "from pybtex.database.input import bibtex\n",
    "import pybtex.database.input.bibtex \n",
    "from time import strptime\n",
    "import string\n",
    "import html\n",
    "import os\n",
    "import re"
   ]
  },
  {
   "cell_type": "code",
   "execution_count": 2,
   "metadata": {},
   "outputs": [],
   "source": [
    "#todo: incorporate different collection types rather than a catch all publications, requires other changes to template\n",
    "publist = {\n",
    "#     \"proceeding\": {\n",
    "#         \"file\" : \"proceedings.bib\",\n",
    "#         \"venuekey\": \"booktitle\",\n",
    "#         \"venue-pretext\": \"In the proceedings of \",\n",
    "#         \"collection\" : {\"name\":\"publications\",\n",
    "#                         \"permalink\":\"/publication/\"}\n",
    "        \n",
    "#     },\n",
    "    \"journal\":{\n",
    "        \"file\": \"mypubs.bib\",\n",
    "        \"venuekey\" : \"journal\",\n",
    "        \"venue-pretext\" : \"\",\n",
    "        \"collection\" : {\"name\":\"publications\",\n",
    "                        \"permalink\":\"/publication/\"}\n",
    "    } \n",
    "}"
   ]
  },
  {
   "cell_type": "code",
   "execution_count": 8,
   "metadata": {},
   "outputs": [],
   "source": [
    "html_escape_table = {\n",
    "    \"&\": \"&amp;\",\n",
    "    '\"': \"&quot;\",\n",
    "    \"'\": \"&apos;\"\n",
    "    }\n",
    "\n",
    "def html_escape(text):\n",
    "    \"\"\"Produce entities within text.\"\"\"\n",
    "    return \"\".join(html_escape_table.get(c,c) for c in text)"
   ]
  },
  {
   "cell_type": "code",
   "execution_count": 9,
   "metadata": {
    "scrolled": false
   },
   "outputs": [
    {
     "name": "stdout",
     "output_type": "stream",
     "text": [
      "2019\n",
      "0\n",
      "Snir Gazit, Fakher Assaad\n",
      "Fermi-surface reconstruction without symmetry breaking\n",
      "2019\n",
      "1\n",
      "Thomas Schuster, Snir Gazit, Joel Moore\n",
      "Floquet Hopf Insulators\n",
      "2019\n",
      "2\n",
      "P Sidorenko, A Dikopoltsev, T Zahavy, O Lahav, S Gazit, Y Shechtman, A Szameit, D Tannor, Y Eldar, M Segev\n",
      "Improving techniques for diagnostics of laser pulses by compact representations\n",
      "2018\n",
      "3\n",
      "Snir Gazit, Fakher Assaad, Subir Sachdev, Ashvin Vishwanath\n",
      "Confinement transition of Z$_2$ gauge theories coupled to massless fermions: Emergent quantum chromodynamics and SO(5) symmetry\n",
      "2018\n",
      "4\n",
      "Michael Kolodrubetz, Frederik Nathan, Snir Gazit, Takahiro Morimoto\n",
      "Topological Floquet-Thouless Energy Pump\n",
      "2017\n",
      "5\n",
      "Gazit Snir, Mohit Randeria\n",
      "Emergent Dirac fermions and broken symmetries in confined and deconfined phases of Z$_2$ gauge theories\n",
      "2017\n",
      "6\n",
      "Andrew Lucas, Snir Gazit, Daniel Podolsky\n",
      "Dynamical Response near Quantum Critical Points\n",
      "2016\n",
      "7\n",
      "Snir Gazit, Daniel Podolsky, Heloise Nonne, Assa Auerbach\n",
      "Collective Modes in a Quantum Solid\n",
      "2016\n",
      "8\n",
      "Snir Gazit and Ashvin Vishwanath\n",
      "Bosonic topological phase in a paired superfluid\n",
      "2016\n",
      "9\n",
      "Ilia Khait, Snir Gazit, Norman Yao\n",
      "Spin transport of weakly disordered Heisenberg chain at infinite temperature\n",
      "2014\n",
      "10\n",
      "Snir Gazit, Daniel Podolsky\n",
      "Critical Capacitance and Charge-Vortex Duality Near the Superfluid-to-Insulator Transition\n",
      "2014\n",
      "11\n",
      "Oren Ofer, Lital Marcipar, Chandra Ravi, Snir Gazit, Daniel Podolsky, Daniel Arovas\n",
      "Dynamic spin fluctuations at T0 in a spin-12 ferromagnetic kagome lattice\n",
      "2013\n",
      "12\n",
      "Snir Gazit, Daniel Podolsky\n",
      "Fate of the Higgs Mode Near Quantum Criticality\n",
      "2013\n",
      "13\n",
      "Snir Gazit, Daniel Podolsky, Assa Auerbach\n",
      "Dynamics and conductivity near quantum criticality\n",
      "2012\n",
      "14\n",
      "Szameit A., Y. Shechtman, Osherovich E., Bullkich E., Sidorenko P., Dana H., Steiner S., Kley B., Gazit S., Cohen-Hyams T., Shoham S., Zibulevsky M., Yavneh I., Eldar C., Cohen O.\n",
      "Sparsity-based single-shot subwavelength coherent diffractive imaging\n",
      "2010\n",
      "15\n",
      "Yoav Shechtman, Snir Gazit, Alexander Szameit, Yonina Eldar\n",
      "Super-resolution and reconstruction of sparse images carried by incoherent light\n",
      "2009\n",
      "16\n",
      "Snir Gazit, Alexander Szameit, Yonina Eldar\n",
      "Super-resolution and reconstruction of sparse sub-wavelength images\n"
     ]
    }
   ],
   "source": [
    "cts=[]\n",
    "for pubsource in publist:\n",
    "    parser = bibtex.Parser()\n",
    "    bibdata = parser.parse_file(publist[pubsource][\"file\"])\n",
    "    entries_sorted=sorted(bibdata.entries,key=lambda x: bibdata.entries[x].fields[\"year\"],reverse=True)\n",
    "    #loop through the individual references in a given bibtex file\n",
    "    for ind,bib_id in enumerate(entries_sorted):\n",
    "        entry=bibdata.entries[bib_id]\n",
    "        b=entry.fields\n",
    "        pub_year = f'{b[\"year\"]}'\n",
    "        print(pub_year)\n",
    "        print(ind)\n",
    "        #todo: this hack for month and day needs some cleanup\n",
    "        if \"month\" in b.keys(): \n",
    "            if(len(b[\"month\"])<3):\n",
    "                pub_month = \"0\"+b[\"month\"]\n",
    "                pub_month = pub_month[-2:]\n",
    "            elif(b[\"month\"] not in range(12)):\n",
    "                tmnth = strptime(b[\"month\"][:3],'%b').tm_mon   \n",
    "                pub_month = \"{:02d}\".format(tmnth) \n",
    "            else:\n",
    "                pub_month = str(b[\"month\"])\n",
    "        if \"day\" in b.keys(): \n",
    "            pub_day = str(b[\"day\"])\n",
    "        citation=\"\"\n",
    "        persons=entry.persons[\"author\"]\n",
    "        num_of_authors=len(persons)\n",
    "        author=persons[0]\n",
    "        citation = author.first_names[0]+\" \"+author.last_names[0]\n",
    "        if num_of_authors==2:\n",
    "            author=persons[1]\n",
    "            citation = citation+\" and \"+author.first_names[0]+\" \"+author.last_names[0]\n",
    "        for i in range(1,num_of_authors-1):\n",
    "            author=persons[i]\n",
    "            citation = citation+\", \"+author.first_names[0]+\" \"+author.last_names[0]\n",
    "        print(citation)\n",
    "        author=persons[-1]\n",
    "        citation = citation+\" and \"+author.first_names[0]+\" \"+author.last_names[0]+\". \"\n",
    "        url = b[\"url\"]\n",
    "        clean_title = b[\"title\"].replace(\"{\", \"\").replace(\"}\",\"\").replace(\"\\\\\",\"\")\n",
    "        print(clean_title)\n",
    "        citation = citation+\"<a href=\\\"\"+url+\"\\\">\"+clean_title+\".</a>\"\n",
    "        journal = entry.fields[\"journal\"]\n",
    "        citation = citation+\"<em> \"+journal+\"</em> \"\n",
    "        if \"arXiv\" in journal:\n",
    "            citation= citation+\",\"+pub_year\n",
    "        else:\n",
    "            vol=b[\"volume\"]\n",
    "            if \"number\" in b.keys(): \n",
    "                num=b[\"number\"]\n",
    "            else:\n",
    "                num=\"\"\n",
    "            pages=b[\"pages\"]\n",
    "\n",
    "            if \"number\" in b.keys():\n",
    "                citation = citation+vol+\"(\"+num+\")\"+\":\"+pages+\",\"+pub_year\n",
    "            else:\n",
    "                citation= citation+vol+\":\"+pages+\",\"+pub_year\n",
    "        cts.append(citation)\n",
    "        # field may not exist for a reference\n"
   ]
  },
  {
   "cell_type": "code",
   "execution_count": 10,
   "metadata": {},
   "outputs": [],
   "source": [
    "all_text=\"<ol>\"\n",
    "for c in cts:\n",
    "    all_text+=\"<li>\"+c+\"</li>\"\n",
    "all_text+=\"</ol>\""
   ]
  },
  {
   "cell_type": "code",
   "execution_count": 11,
   "metadata": {},
   "outputs": [
    {
     "data": {
      "text/plain": [
       "'<ol><li>Snir Gazit, Fakher Assaad and Subir Sachdev. <a href=\"https://arxiv.org/abs/1906.11250\">Fermi-surface reconstruction without symmetry breaking.</a><em> arXiv preprint arXiv:1906.11250</em> ,2019</li><li>Thomas Schuster, Snir Gazit, Joel Moore and Norman Yao. <a href=\"https://arxiv.org/abs/1903.02558\">Floquet Hopf Insulators.</a><em> arXiv preprint arXiv:1903.02558</em> ,2019</li><li>P Sidorenko, A Dikopoltsev, T Zahavy, O Lahav, S Gazit, Y Shechtman, A Szameit, D Tannor, Y Eldar, M Segev and O Cohen. <a href=\"http://www.opticsexpress.org/abstract.cfm?URI=oe-27-6-8920\">Improving techniques for diagnostics of laser pulses by compact representations.</a><em> Opt. Express</em> 27(6):8920--8934,2019</li><li>Snir Gazit, Fakher Assaad, Subir Sachdev, Ashvin Vishwanath and Chong Wang. <a href=\"https://www.pnas.org/content/115/30/E6987\">Confinement transition of Z$_2$ gauge theories coupled to massless fermions: Emergent quantum chromodynamics and SO(5) symmetry.</a><em> Proceedings of the National Academy of Sciences</em> 115(30):E6987--E6995,2018</li><li>Michael Kolodrubetz, Frederik Nathan, Snir Gazit, Takahiro Morimoto and Joel Moore. <a href=\"https://link.aps.org/doi/10.1103/PhysRevLett.120.150601\">Topological Floquet-Thouless Energy Pump.</a><em> Phys. Rev. Lett.</em> 120(15):150601,2018</li><li>Gazit Snir, Mohit Randeria and Vishwanath Ashvin. <a href=\"https://doi.org/10.1038/nphys4028\">Emergent Dirac fermions and broken symmetries in confined and deconfined phases of Z$_2$ gauge theories.</a><em> Nature Physics</em> 13:484–490,2017</li><li>Andrew Lucas, Snir Gazit, Daniel Podolsky and William Witczak-Krempa. <a href=\"https://link.aps.org/doi/10.1103/PhysRevLett.118.056601\">Dynamical Response near Quantum Critical Points.</a><em> Phys. Rev. Lett.</em> 118(5):56601,2017</li><li>Snir Gazit, Daniel Podolsky, Heloise Nonne, Assa Auerbach and Daniel Arovas. <a href=\"https://link.aps.org/doi/10.1103/PhysRevLett.117.085302\">Collective Modes in a Quantum Solid.</a><em> Phys. Rev. Lett.</em> 117(8):85302,2016</li><li>Snir Gazit and Ashvin Vishwanath and Ashvin Vishwanath. <a href=\"https://link.aps.org/doi/10.1103/PhysRevB.93.115146\">Bosonic topological phase in a paired superfluid.</a><em> Phys. Rev. B</em> 93(11):115146,2016</li><li>Ilia Khait, Snir Gazit, Norman Yao and Assa Auerbach. <a href=\"https://link.aps.org/doi/10.1103/PhysRevB.93.224205\">Spin transport of weakly disordered Heisenberg chain at infinite temperature.</a><em> Phys. Rev. B</em> 93(22):224205,2016</li><li>Snir Gazit, Daniel Podolsky and Assa Auerbach. <a href=\"https://link.aps.org/doi/10.1103/PhysRevLett.113.240601\">Critical Capacitance and Charge-Vortex Duality Near the Superfluid-to-Insulator Transition.</a><em> Phys. Rev. Lett.</em> 113(24):240601,2014</li><li>Oren Ofer, Lital Marcipar, Chandra Ravi, Snir Gazit, Daniel Podolsky, Daniel Arovas and Amit Keren. <a href=\"https://link.aps.org/doi/10.1103/PhysRevB.89.205116\">Dynamic spin fluctuations at T0 in a spin-12 ferromagnetic kagome lattice.</a><em> Phys. Rev. B</em> 89(20):205116,2014</li><li>Snir Gazit, Daniel Podolsky and Assa Auerbach. <a href=\"https://link.aps.org/doi/10.1103/PhysRevLett.110.140401\">Fate of the Higgs Mode Near Quantum Criticality.</a><em> Phys. Rev. Lett.</em> 110(14):140401,2013</li><li>Snir Gazit, Daniel Podolsky, Assa Auerbach and Daniel Arovas. <a href=\"https://link.aps.org/doi/10.1103/PhysRevB.88.235108\">Dynamics and conductivity near quantum criticality.</a><em> Phys. Rev. B</em> 88(23):235108,2013</li><li>Szameit A., Y. Shechtman, Osherovich E., Bullkich E., Sidorenko P., Dana H., Steiner S., Kley B., Gazit S., Cohen-Hyams T., Shoham S., Zibulevsky M., Yavneh I., Eldar C., Cohen O. and Segev M. <a href=\"https://doi.org/10.1038/nmat3289\">Sparsity-based single-shot subwavelength coherent diffractive imaging.</a><em> Nature Materials</em> 11:455–459,2012</li><li>Yoav Shechtman, Snir Gazit, Alexander Szameit, Yonina Eldar and Mordechai Segev. <a href=\"http://ol.osa.org/abstract.cfm?URI=ol-35-8-1148\">Super-resolution and reconstruction of sparse images carried by incoherent light.</a><em> Opt. Lett.</em> 35(8):1148--1150,2010</li><li>Snir Gazit, Alexander Szameit, Yonina Eldar and Mordechai Segev. <a href=\"http://www.opticsexpress.org/abstract.cfm?URI=oe-17-26-23920\">Super-resolution and reconstruction of sparse sub-wavelength images.</a><em> Opt. Express</em> 17(26):23920--23946,2009</li></ol>'"
      ]
     },
     "execution_count": 11,
     "metadata": {},
     "output_type": "execute_result"
    }
   ],
   "source": [
    "all_text"
   ]
  },
  {
   "cell_type": "code",
   "execution_count": 7,
   "metadata": {},
   "outputs": [
    {
     "ename": "BibliographyDataError",
     "evalue": "repeated bibliograhpy entry: schuster2019floquet",
     "output_type": "error",
     "traceback": [
      "\u001b[0;31m---------------------------------------------------------------------------\u001b[0m",
      "\u001b[0;31mBibliographyDataError\u001b[0m                     Traceback (most recent call last)",
      "\u001b[0;32m<ipython-input-7-cc50a7c8a55a>\u001b[0m in \u001b[0;36m<module>\u001b[0;34m\u001b[0m\n\u001b[0;32m----> 1\u001b[0;31m \u001b[0mbibdata\u001b[0m \u001b[0;34m=\u001b[0m \u001b[0mparser\u001b[0m\u001b[0;34m.\u001b[0m\u001b[0mparse_file\u001b[0m\u001b[0;34m(\u001b[0m\u001b[0mpublist\u001b[0m\u001b[0;34m[\u001b[0m\u001b[0;34m\"journal\"\u001b[0m\u001b[0;34m]\u001b[0m\u001b[0;34m[\u001b[0m\u001b[0;34m\"file\"\u001b[0m\u001b[0;34m]\u001b[0m\u001b[0;34m)\u001b[0m\u001b[0;34m\u001b[0m\u001b[0;34m\u001b[0m\u001b[0m\n\u001b[0m",
      "\u001b[0;32m~/.julia/conda/3/lib/python3.7/site-packages/pybtex/database/input/__init__.py\u001b[0m in \u001b[0;36mparse_file\u001b[0;34m(self, filename, file_suffix)\u001b[0m\n\u001b[1;32m     52\u001b[0m         \u001b[0;32mwith\u001b[0m \u001b[0mopen_file\u001b[0m\u001b[0;34m(\u001b[0m\u001b[0mfilename\u001b[0m\u001b[0;34m,\u001b[0m \u001b[0mencoding\u001b[0m\u001b[0;34m=\u001b[0m\u001b[0mself\u001b[0m\u001b[0;34m.\u001b[0m\u001b[0mencoding\u001b[0m\u001b[0;34m)\u001b[0m \u001b[0;32mas\u001b[0m \u001b[0mf\u001b[0m\u001b[0;34m:\u001b[0m\u001b[0;34m\u001b[0m\u001b[0;34m\u001b[0m\u001b[0m\n\u001b[1;32m     53\u001b[0m             \u001b[0;32mtry\u001b[0m\u001b[0;34m:\u001b[0m\u001b[0;34m\u001b[0m\u001b[0;34m\u001b[0m\u001b[0m\n\u001b[0;32m---> 54\u001b[0;31m                 \u001b[0mself\u001b[0m\u001b[0;34m.\u001b[0m\u001b[0mparse_stream\u001b[0m\u001b[0;34m(\u001b[0m\u001b[0mf\u001b[0m\u001b[0;34m)\u001b[0m\u001b[0;34m\u001b[0m\u001b[0;34m\u001b[0m\u001b[0m\n\u001b[0m\u001b[1;32m     55\u001b[0m             \u001b[0;32mexcept\u001b[0m \u001b[0mUnicodeDecodeError\u001b[0m \u001b[0;32mas\u001b[0m \u001b[0me\u001b[0m\u001b[0;34m:\u001b[0m\u001b[0;34m\u001b[0m\u001b[0;34m\u001b[0m\u001b[0m\n\u001b[1;32m     56\u001b[0m                 \u001b[0;32mraise\u001b[0m \u001b[0mPybtexError\u001b[0m\u001b[0;34m(\u001b[0m\u001b[0msix\u001b[0m\u001b[0;34m.\u001b[0m\u001b[0mtext_type\u001b[0m\u001b[0;34m(\u001b[0m\u001b[0me\u001b[0m\u001b[0;34m)\u001b[0m\u001b[0;34m,\u001b[0m \u001b[0mfilename\u001b[0m\u001b[0;34m=\u001b[0m\u001b[0mself\u001b[0m\u001b[0;34m.\u001b[0m\u001b[0mfilename\u001b[0m\u001b[0;34m)\u001b[0m\u001b[0;34m\u001b[0m\u001b[0;34m\u001b[0m\u001b[0m\n",
      "\u001b[0;32m~/.julia/conda/3/lib/python3.7/site-packages/pybtex/database/input/bibtex.py\u001b[0m in \u001b[0;36mparse_stream\u001b[0;34m(self, stream)\u001b[0m\n\u001b[1;32m    408\u001b[0m     \u001b[0;32mdef\u001b[0m \u001b[0mparse_stream\u001b[0m\u001b[0;34m(\u001b[0m\u001b[0mself\u001b[0m\u001b[0;34m,\u001b[0m \u001b[0mstream\u001b[0m\u001b[0;34m)\u001b[0m\u001b[0;34m:\u001b[0m\u001b[0;34m\u001b[0m\u001b[0;34m\u001b[0m\u001b[0m\n\u001b[1;32m    409\u001b[0m         \u001b[0mtext\u001b[0m \u001b[0;34m=\u001b[0m \u001b[0mstream\u001b[0m\u001b[0;34m.\u001b[0m\u001b[0mread\u001b[0m\u001b[0;34m(\u001b[0m\u001b[0;34m)\u001b[0m\u001b[0;34m\u001b[0m\u001b[0;34m\u001b[0m\u001b[0m\n\u001b[0;32m--> 410\u001b[0;31m         \u001b[0;32mreturn\u001b[0m \u001b[0mself\u001b[0m\u001b[0;34m.\u001b[0m\u001b[0mparse_string\u001b[0m\u001b[0;34m(\u001b[0m\u001b[0mtext\u001b[0m\u001b[0;34m)\u001b[0m\u001b[0;34m\u001b[0m\u001b[0;34m\u001b[0m\u001b[0m\n\u001b[0m",
      "\u001b[0;32m~/.julia/conda/3/lib/python3.7/site-packages/pybtex/database/input/bibtex.py\u001b[0m in \u001b[0;36mparse_string\u001b[0;34m(self, text)\u001b[0m\n\u001b[1;32m    403\u001b[0m                 \u001b[0mself\u001b[0m\u001b[0;34m.\u001b[0m\u001b[0mprocess_preamble\u001b[0m\u001b[0;34m(\u001b[0m\u001b[0;34m*\u001b[0m\u001b[0mentry\u001b[0m\u001b[0;34m[\u001b[0m\u001b[0;36m1\u001b[0m\u001b[0;34m]\u001b[0m\u001b[0;34m)\u001b[0m\u001b[0;34m\u001b[0m\u001b[0;34m\u001b[0m\u001b[0m\n\u001b[1;32m    404\u001b[0m             \u001b[0;32melse\u001b[0m\u001b[0;34m:\u001b[0m\u001b[0;34m\u001b[0m\u001b[0;34m\u001b[0m\u001b[0m\n\u001b[0;32m--> 405\u001b[0;31m                 \u001b[0mself\u001b[0m\u001b[0;34m.\u001b[0m\u001b[0mprocess_entry\u001b[0m\u001b[0;34m(\u001b[0m\u001b[0mentry_type\u001b[0m\u001b[0;34m,\u001b[0m \u001b[0;34m*\u001b[0m\u001b[0mentry\u001b[0m\u001b[0;34m[\u001b[0m\u001b[0;36m1\u001b[0m\u001b[0;34m]\u001b[0m\u001b[0;34m)\u001b[0m\u001b[0;34m\u001b[0m\u001b[0;34m\u001b[0m\u001b[0m\n\u001b[0m\u001b[1;32m    406\u001b[0m         \u001b[0;32mreturn\u001b[0m \u001b[0mself\u001b[0m\u001b[0;34m.\u001b[0m\u001b[0mdata\u001b[0m\u001b[0;34m\u001b[0m\u001b[0;34m\u001b[0m\u001b[0m\n\u001b[1;32m    407\u001b[0m \u001b[0;34m\u001b[0m\u001b[0m\n",
      "\u001b[0;32m~/.julia/conda/3/lib/python3.7/site-packages/pybtex/database/input/bibtex.py\u001b[0m in \u001b[0;36mprocess_entry\u001b[0;34m(self, entry_type, key, fields)\u001b[0m\n\u001b[1;32m    370\u001b[0m             \u001b[0;32melse\u001b[0m\u001b[0;34m:\u001b[0m\u001b[0;34m\u001b[0m\u001b[0;34m\u001b[0m\u001b[0m\n\u001b[1;32m    371\u001b[0m                 \u001b[0mentry\u001b[0m\u001b[0;34m.\u001b[0m\u001b[0mfields\u001b[0m\u001b[0;34m[\u001b[0m\u001b[0mfield_name\u001b[0m\u001b[0;34m]\u001b[0m \u001b[0;34m=\u001b[0m \u001b[0mfield_value\u001b[0m\u001b[0;34m\u001b[0m\u001b[0;34m\u001b[0m\u001b[0m\n\u001b[0;32m--> 372\u001b[0;31m         \u001b[0mself\u001b[0m\u001b[0;34m.\u001b[0m\u001b[0mdata\u001b[0m\u001b[0;34m.\u001b[0m\u001b[0madd_entry\u001b[0m\u001b[0;34m(\u001b[0m\u001b[0mkey\u001b[0m\u001b[0;34m,\u001b[0m \u001b[0mentry\u001b[0m\u001b[0;34m)\u001b[0m\u001b[0;34m\u001b[0m\u001b[0;34m\u001b[0m\u001b[0m\n\u001b[0m\u001b[1;32m    373\u001b[0m \u001b[0;34m\u001b[0m\u001b[0m\n\u001b[1;32m    374\u001b[0m     \u001b[0;32mdef\u001b[0m \u001b[0mprocess_preamble\u001b[0m\u001b[0;34m(\u001b[0m\u001b[0mself\u001b[0m\u001b[0;34m,\u001b[0m \u001b[0mvalue_list\u001b[0m\u001b[0;34m)\u001b[0m\u001b[0;34m:\u001b[0m\u001b[0;34m\u001b[0m\u001b[0;34m\u001b[0m\u001b[0m\n",
      "\u001b[0;32m~/.julia/conda/3/lib/python3.7/site-packages/pybtex/database/__init__.py\u001b[0m in \u001b[0;36madd_entry\u001b[0;34m(self, key, entry)\u001b[0m\n\u001b[1;32m    153\u001b[0m             \u001b[0;32mreturn\u001b[0m\u001b[0;34m\u001b[0m\u001b[0;34m\u001b[0m\u001b[0m\n\u001b[1;32m    154\u001b[0m         \u001b[0;32mif\u001b[0m \u001b[0mkey\u001b[0m \u001b[0;32min\u001b[0m \u001b[0mself\u001b[0m\u001b[0;34m.\u001b[0m\u001b[0mentries\u001b[0m\u001b[0;34m:\u001b[0m\u001b[0;34m\u001b[0m\u001b[0;34m\u001b[0m\u001b[0m\n\u001b[0;32m--> 155\u001b[0;31m             \u001b[0mreport_error\u001b[0m\u001b[0;34m(\u001b[0m\u001b[0mBibliographyDataError\u001b[0m\u001b[0;34m(\u001b[0m\u001b[0;34m'repeated bibliograhpy entry: %s'\u001b[0m \u001b[0;34m%\u001b[0m \u001b[0mkey\u001b[0m\u001b[0;34m)\u001b[0m\u001b[0;34m)\u001b[0m\u001b[0;34m\u001b[0m\u001b[0;34m\u001b[0m\u001b[0m\n\u001b[0m\u001b[1;32m    156\u001b[0m             \u001b[0;32mreturn\u001b[0m\u001b[0;34m\u001b[0m\u001b[0;34m\u001b[0m\u001b[0m\n\u001b[1;32m    157\u001b[0m         \u001b[0mentry\u001b[0m\u001b[0;34m.\u001b[0m\u001b[0mkey\u001b[0m \u001b[0;34m=\u001b[0m \u001b[0mself\u001b[0m\u001b[0;34m.\u001b[0m\u001b[0mget_canonical_key\u001b[0m\u001b[0;34m(\u001b[0m\u001b[0mkey\u001b[0m\u001b[0;34m)\u001b[0m\u001b[0;34m\u001b[0m\u001b[0;34m\u001b[0m\u001b[0m\n",
      "\u001b[0;32m~/.julia/conda/3/lib/python3.7/site-packages/pybtex/errors.py\u001b[0m in \u001b[0;36mreport_error\u001b[0;34m(exception)\u001b[0m\n\u001b[1;32m     76\u001b[0m \u001b[0;34m\u001b[0m\u001b[0m\n\u001b[1;32m     77\u001b[0m     \u001b[0;32mif\u001b[0m \u001b[0mstrict\u001b[0m\u001b[0;34m:\u001b[0m\u001b[0;34m\u001b[0m\u001b[0;34m\u001b[0m\u001b[0m\n\u001b[0;32m---> 78\u001b[0;31m         \u001b[0;32mraise\u001b[0m \u001b[0mexception\u001b[0m\u001b[0;34m\u001b[0m\u001b[0;34m\u001b[0m\u001b[0m\n\u001b[0m\u001b[1;32m     79\u001b[0m     \u001b[0;32melse\u001b[0m\u001b[0;34m:\u001b[0m\u001b[0;34m\u001b[0m\u001b[0;34m\u001b[0m\u001b[0m\n\u001b[1;32m     80\u001b[0m         \u001b[0mprint_error\u001b[0m\u001b[0;34m(\u001b[0m\u001b[0mexception\u001b[0m\u001b[0;34m,\u001b[0m \u001b[0;34m'WARNING: '\u001b[0m\u001b[0;34m)\u001b[0m\u001b[0;34m\u001b[0m\u001b[0;34m\u001b[0m\u001b[0m\n",
      "\u001b[0;31mBibliographyDataError\u001b[0m: repeated bibliograhpy entry: schuster2019floquet"
     ]
    }
   ],
   "source": [
    "bibdata = parser.parse_file(publist[\"journal\"][\"file\"])\n"
   ]
  },
  {
   "cell_type": "code",
   "execution_count": 8,
   "metadata": {},
   "outputs": [
    {
     "data": {
      "text/plain": [
       "'Opt. Express'"
      ]
     },
     "execution_count": 8,
     "metadata": {},
     "output_type": "execute_result"
    }
   ],
   "source": [
    "bibdata.entries['Gazit2009'].fields[\"journal\"]"
   ]
  },
  {
   "cell_type": "code",
   "execution_count": 9,
   "metadata": {},
   "outputs": [],
   "source": [
    "citation=\"\"\n",
    "entry=bibdata.entries['Gazit2018']\n",
    "persons=entry.persons[\"author\"]\n",
    "num_of_authors=len(persons)\n",
    "author=persons[0]\n",
    "citation = author.first_names[0]+\" \"+author.last_names[0]\n",
    "if num_of_authors==2:\n",
    "    citation = citation+\" and \"+author.first_names[1]+\" \"+author.last_names[1]\n",
    "for i in range(1,num_of_authors-1):\n",
    "    author=persons[i]\n",
    "    citation = citation+\", \"+author.first_names[0]+\" \"+author.last_names[0]\n",
    "author=persons[-1]\n",
    "citation = citation+\" and \"+author.first_names[0]+\" \"+author.last_names[0]+\".\"\n",
    "b=entry.fields\n",
    "url = b[\"url\"]\n",
    "clean_title = b[\"title\"].replace(\"{\", \"\").replace(\"}\",\"\").replace(\"\\\\\",\"\")\n",
    "citation = citation+\"<a href=\\\">\"+url+\"\\\"\"+clean_title+\".</a>\"\n",
    "journal = entry.fields[\"journal\"]\n",
    "citation = citation+\"<em> \"+journal+\"</em>\"\n",
    "vol=b[\"volume\"]\n",
    "num=b[\"number\"]\n",
    "pages=b[\"pages\"]\n",
    "pub_year = f'{b[\"year\"]}'\n",
    "#todo: this hack for month and day needs some cleanup\n",
    "if \"month\" in b.keys(): \n",
    "    if(len(b[\"month\"])<3):\n",
    "        pub_month = \"0\"+b[\"month\"]\n",
    "        pub_month = pub_month[-2:]\n",
    "    elif(b[\"month\"] not in range(12)):\n",
    "        tmnth = strptime(b[\"month\"][:3],'%b').tm_mon   \n",
    "        pub_month = \"{:02d}\".format(tmnth) \n",
    "    else:\n",
    "        pub_month = str(b[\"month\"])\n",
    "if \"day\" in b.keys(): \n",
    "    pub_day = str(b[\"day\"])\n",
    "citation = citation+vol+\"(\"+num+\")\"+\":\"+pages+pub_year"
   ]
  },
  {
   "cell_type": "code",
   "execution_count": 10,
   "metadata": {},
   "outputs": [
    {
     "data": {
      "text/plain": [
       "'Snir Gazit, Fakher Assaad, Subir Sachdev, Ashvin Vishwanath and Chong Wang.<a href=\">https://www.pnas.org/content/115/30/E6987\"Confinement transition of Z$_2$ gauge theories coupled to massless fermions: Emergent quantum chromodynamics and SO(5) symmetry.</a><em> Proceedings of the National Academy of Sciences</em>115(30):E6987--E69952018'"
      ]
     },
     "execution_count": 10,
     "metadata": {},
     "output_type": "execute_result"
    }
   ],
   "source": [
    "citation"
   ]
  },
  {
   "cell_type": "code",
   "execution_count": 84,
   "metadata": {},
   "outputs": [
    {
     "data": {
      "text/plain": [
       "'27'"
      ]
     },
     "execution_count": 84,
     "metadata": {},
     "output_type": "execute_result"
    }
   ],
   "source": [
    "vol"
   ]
  },
  {
   "cell_type": "code",
   "execution_count": null,
   "metadata": {},
   "outputs": [],
   "source": []
  }
 ],
 "metadata": {
  "@webio": {
   "lastCommId": null,
   "lastKernelId": null
  },
  "kernelspec": {
   "display_name": "Python 3",
   "language": "python",
   "name": "python3"
  },
  "language_info": {
   "codemirror_mode": {
    "name": "ipython",
    "version": 3
   },
   "file_extension": ".py",
   "mimetype": "text/x-python",
   "name": "python",
   "nbconvert_exporter": "python",
   "pygments_lexer": "ipython3",
   "version": "3.7.3"
  }
 },
 "nbformat": 4,
 "nbformat_minor": 2
}
